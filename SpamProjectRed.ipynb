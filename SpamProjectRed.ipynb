{
 "cells": [
  {
   "cell_type": "code",
   "execution_count": 314,
   "metadata": {},
   "outputs": [
    {
     "name": "stderr",
     "output_type": "stream",
     "text": [
      "[nltk_data] Downloading package punkt to\n",
      "[nltk_data]     C:\\Users\\RED94\\AppData\\Roaming\\nltk_data...\n",
      "[nltk_data]   Package punkt is already up-to-date!\n",
      "[nltk_data] Downloading package stopwords to\n",
      "[nltk_data]     C:\\Users\\RED94\\AppData\\Roaming\\nltk_data...\n",
      "[nltk_data]   Package stopwords is already up-to-date!\n"
     ]
    }
   ],
   "source": [
    "# data\n",
    "import pandas as pd\n",
    "import numpy as np\n",
    "import matplotlib.pyplot as plt\n",
    "import re\n",
    "import nltk\n",
    "\n",
    "# Preprocessing\n",
    "from sklearn.impute import SimpleImputer\n",
    "from sklearn.compose import ColumnTransformer\n",
    "from sklearn.preprocessing import OrdinalEncoder\n",
    "from sklearn.preprocessing import RobustScaler, MinMaxScaler\n",
    "from sklearn.feature_extraction.text import TfidfVectorizer\n",
    "from nltk.tokenize import RegexpTokenizer\n",
    "nltk.download('punkt')\n",
    "from nltk.corpus import stopwords\n",
    "nltk.download('stopwords')\n",
    "from nltk.stem import PorterStemmer\n",
    "from imblearn.under_sampling import RandomUnderSampler \n",
    "\n",
    "# Pipeline and model\n",
    "from sklearn.pipeline import Pipeline\n",
    "from sklearn.model_selection import train_test_split\n",
    "from sklearn.linear_model import LogisticRegression\n",
    "from sklearn.naive_bayes import CategoricalNB, GaussianNB\n",
    "from sklearn.ensemble import RandomForestClassifier\n",
    "from sklearn.svm import SVC\n",
    "from sklearn.neighbors import KNeighborsClassifier\n",
    "from sklearn.naive_bayes import MultinomialNB\n",
    "from sklearn.naive_bayes import ComplementNB\n",
    "\n",
    "from sklearn.tree import DecisionTreeClassifier\n",
    "\n",
    "from sklearn.linear_model import RidgeClassifier\n",
    "from sklearn.naive_bayes import BernoulliNB\n",
    "\n",
    "# Score of models\n",
    "from sklearn.metrics import accuracy_score\n",
    "from sklearn.metrics import classification_report\n",
    "from sklearn.metrics import ConfusionMatrixDisplay\n",
    "from sklearn.metrics import RocCurveDisplay"
   ]
  },
  {
   "cell_type": "code",
   "execution_count": 315,
   "metadata": {},
   "outputs": [],
   "source": [
    "#création d'une blacklist de mots de spam \n",
    "dfblacklist = pd.read_csv('blacklist.txt', header=None )\n",
    "dfblacklist.rename(columns={0:'words'}, inplace=True)\n",
    "dfblacklistList = dfblacklist['words'].tolist()"
   ]
  },
  {
   "cell_type": "code",
   "execution_count": 316,
   "metadata": {},
   "outputs": [],
   "source": [
    "#fonction de mise en place du dataset \n",
    "def cree_df(url = \"SMSSpamCollection.txt\"):\n",
    "    df = pd.read_csv(url, sep='\\t', header=None )\n",
    "    df.rename(columns={0:'type',1:'mail'}, inplace=True)\n",
    "    return df"
   ]
  },
  {
   "cell_type": "code",
   "execution_count": 317,
   "metadata": {},
   "outputs": [],
   "source": [
    "#fonction de préparation des données (preprocessing)\n",
    "def prep(df): \n",
    "\n",
    "    #lowercase des message\n",
    "    df['minuscule']=df['mail'].str.lower()\n",
    "\n",
    "    #mise en place des tokens des message\n",
    "    tokenizer = RegexpTokenizer(r\"\\b\\w+\\b|\\d{2} \\d{2} \\d{2} \\d{2} \\d{2}\")\n",
    "    df['token'] = df['minuscule'].apply(lambda x: tokenizer.tokenize(x))\n",
    "\n",
    "    #ajout d'un stopwords \n",
    "    stop = stopwords.words('english')\n",
    "    df['without_stopwords']=df['token'].apply(lambda x: [word for word in x if word not in stop])\n",
    "\n",
    "    #ajout d'un stemmer\n",
    "    stemmer = PorterStemmer()\n",
    "    df['PorterStemmer'] = df['without_stopwords'].apply(lambda x: [stemmer.stem(word) for word in x])\n",
    "    \n",
    "    #regroupement du traitement des données\n",
    "    df['clean'] = df['without_stopwords'].apply(lambda x: \" \".join(x))\n",
    "    return df"
   ]
  },
  {
   "cell_type": "code",
   "execution_count": 318,
   "metadata": {},
   "outputs": [],
   "source": [
    "#fonction d'ajout des features afin d'améliorer la précision des modèles\n",
    "def features(df):\n",
    "    \n",
    "    #ajout d'une feature \"longueur du message\"\n",
    "    df['len']=df['mail'].str.len()\n",
    "\n",
    "    #ajout d'une feature \"nombre de mots\"\n",
    "# df['nombre_mots']=df['mail'].str.split().str.len()\n",
    "    df['nombre_mots']=df['token'].str.len()\n",
    "\n",
    "    #ajout d'une feature permettant de vérifier si présence d'hypertexte\n",
    "    pattern = r\"http\\S+\"\n",
    "    df['http']=df['mail'].apply(lambda x : True if re.search(pattern, x) else False)\n",
    "\n",
    "    #ajout d'une feature permettant de vérifier la présence de chiffre \n",
    "    pattern = r\"/^[\\(]?[\\+]?(\\d{2}|\\d{3})[\\)]?[\\s]?((\\d{6}|\\d{8})|(\\d{3}[\\*\\.\\-\\s]){3}|(\\d{2}[\\*\\.\\-\\s]){4}|(\\d{4}[\\*\\.\\-\\s]){2})|\\d{8}|\\d{10}|\\d{12}$/\"\n",
    "    df['phone']=df['mail'].apply(lambda x : True if re.search(pattern, x) else False)\n",
    "    \n",
    "    #ajout d'une feature permettant de vérifier la présence de mail\n",
    "    #pattern = r\"[-A-Za-z0-9!#$%&'*+/=?^_`{|}~]+(?:\\.[-A-Za-z0-9!#$%&'*+/=?^_`{|}~]+)*@(?:[A-Za-z0-9](?:[-A-Za-z0-9]*[A-Za-z0-9])?\\.)+[A-Za-z0-9](?:[-A-Za-z0-9]*[A-Za-z0-9])?\"\n",
    "    #df['mail_compt']=df['mail'].apply(lambda x = 'True' : re.findall(pattern, x) else x = 'False')\n",
    "\n",
    "    #ajout d'une feature permettant de vérifier la présence de mots blacklisté \n",
    "    df['blacklist']=df['token'].apply(lambda x: [ word for word in x if word  in dfblacklistList])\n",
    "    return df"
   ]
  },
  {
   "cell_type": "code",
   "execution_count": 319,
   "metadata": {},
   "outputs": [],
   "source": [
    "from imblearn.under_sampling import RandomUnderSampler #conda install conda-forge::imbalanced-learn"
   ]
  },
  {
   "cell_type": "code",
   "execution_count": 320,
   "metadata": {},
   "outputs": [],
   "source": [
    "#fonction permettant la spéaration de la target des autres colonnes (création X et y)\n",
    "\n",
    "def spliteur(df):\n",
    "    X = df.drop(columns = ['type'], axis=1)\n",
    "    y = df['type']\n",
    "    rus = RandomUnderSampler(random_state=42)\n",
    "    X_res, y_res = rus.fit_resample(X, y)\n",
    "    #return train_test_split(X, y, stratify=y, test_size=0.3, random_state=42)\n",
    "    return train_test_split(X_res, y_res, stratify=y_res, test_size=0.2, random_state=42)"
   ]
  },
  {
   "cell_type": "code",
   "execution_count": 321,
   "metadata": {},
   "outputs": [],
   "source": [
    "#fonction création du modèle \n",
    "def ModelCreateur(X_train, y_train, classifier):\n",
    "\n",
    "    column_num  = ['len','nombre_mots']\n",
    "    column_bool = ['http','phone']\n",
    "    \n",
    "    #Transformation des variables texte\n",
    "    transfo_text_TFid = Pipeline(steps=[\n",
    "        ('Tfid', TfidfVectorizer(lowercase=False, decode_error='ignore', analyzer='char_wb', ngram_range=(2, 2)))\n",
    "        \n",
    "    ])\n",
    "\n",
    "#Application des étapes sur tout le dataset\n",
    "    if classifier == \"ComplementNB()\" or \"MultinomialNB()\":\n",
    "        preparation = ColumnTransformer(\n",
    "        transformers=[\n",
    "        ('TFid&data', transfo_text_TFid , 'clean'), #TFIDF ne prend pas de listes comme arguments\n",
    "        # ('CountVect&data', transfo_text_CountVect , 'clean'),\n",
    "            ('Scaler&data',MinMaxScaler(), column_num),\n",
    "            ('BoolEncoder',OrdinalEncoder(), column_bool)\n",
    "        ])\n",
    "    else : \n",
    "        preparation = ColumnTransformer(\n",
    "        transformers=[\n",
    "        ('TFid&data', transfo_text_TFid , 'clean'), #TFIDF ne prend pas de listes comme arguments\n",
    "        # ('CountVect&data', transfo_text_CountVect , 'clean'),\n",
    "            ('Scaler&data',RobustScaler(), column_num),\n",
    "            ('BoolEncoder',OrdinalEncoder(), column_bool)\n",
    "        ])\n",
    "    \n",
    "    #relie l'algorithme avec le modèle\n",
    "    model = Pipeline([\n",
    "    ('vectorizer', preparation),\n",
    "    ('classifier', classifier)\n",
    "    ])\n",
    "    #Fit le modèle\n",
    "    model.fit(X_train, y_train)\n",
    "    return model"
   ]
  },
  {
   "cell_type": "code",
   "execution_count": 322,
   "metadata": {},
   "outputs": [],
   "source": [
    "#fonction permettant de connaître le score de notre modèle\n",
    "def AfficherScores(y_test, y_pred,model,x):\n",
    "    \n",
    "    #affiche l'accuracy du modèle\n",
    "    print(\"Accuracy:\", accuracy_score(y_test, y_pred))\n",
    "    #affiche la classification report du modèle\n",
    "    print(classification_report(y_test, y_pred))\n",
    "    #affiche les graphiques du modèle\n",
    "    \"\"\"plt.hist(model.decision_function(x), bins=50)\n",
    "    plt.show()\"\"\""
   ]
  },
  {
   "cell_type": "code",
   "execution_count": 323,
   "metadata": {},
   "outputs": [],
   "source": [
    "# fonction qui affiche la matrice de confusion du modèle\n",
    "def matrixconf(y_test,y_pred):\n",
    "    #affiche la matrice de confusion du modèle\n",
    "    ConfusionMatrixDisplay.from_predictions(y_test, y_pred)"
   ]
  },
  {
   "cell_type": "code",
   "execution_count": 324,
   "metadata": {},
   "outputs": [],
   "source": [
    "#fonction permettant de tester le modèle\n",
    "def testModel(sms,model):\n",
    "    #mise en place d'un input\n",
    "    input_sms     = [sms]\n",
    "    #transformation en dataframe afin de l'utiliser correctement\n",
    "    df_sms        = pd.DataFrame(input_sms)\n",
    "    df_sms.rename(columns={0:'mail'}, inplace=True)\n",
    "    #mise en place du preprocessing\n",
    "    df_sms        = prep(df_sms)\n",
    "    #mise en place des feature\n",
    "    df_sms        = features(df_sms)\n",
    "    #prediction \n",
    "    result = model.predict(df_sms)\n",
    "    return result"
   ]
  },
  {
   "cell_type": "code",
   "execution_count": 325,
   "metadata": {},
   "outputs": [],
   "source": [
    "#mise en place des modèles\n",
    "classifier1 = LogisticRegression(solver='liblinear', C=1e3)\n",
    "classifier2 = KNeighborsClassifier(7)\n",
    "\n",
    "classifier3 = ComplementNB()                                        \n",
    "classifier4 = MultinomialNB()                                     \n",
    "classifier5 = BernoulliNB(force_alpha=True)\n",
    "\n",
    "classifier6 = SVC()                                     \n",
    "classifier7 = SVC(gamma=2, C=1, random_state=42)                   \n",
    "\n",
    "classifier8 = RidgeClassifier(tol=1e-2, solver=\"sparse_cg\")          \n",
    "classifier9 = RandomForestClassifier(max_depth=200, random_state=42) \n",
    "classifier10 = DecisionTreeClassifier()                             \n",
    "\n",
    "list_model = [classifier1,classifier2,classifier3,classifier4,classifier5,classifier6,classifier7,classifier8,classifier9,classifier10]"
   ]
  },
  {
   "cell_type": "code",
   "execution_count": 326,
   "metadata": {},
   "outputs": [
    {
     "data": {
      "text/plain": [
       "<Axes: title={'center': 'len'}, xlabel='type'>"
      ]
     },
     "execution_count": 326,
     "metadata": {},
     "output_type": "execute_result"
    },
    {
     "data": {
      "image/png": "[encoded data removed]",
      "text/plain": [
       "<Figure size 640x480 with 1 Axes>"
      ]
     },
     "metadata": {},
     "output_type": "display_data"
    },
    {
     "data": {
      "image/png": "[encoded data removed]",
      "text/plain": [
       "<Figure size 640x480 with 1 Axes>"
      ]
     },
     "metadata": {},
     "output_type": "display_data"
    },
    {
     "data": {
      "image/png": "[encoded data removed]",
      "text/plain": [
       "<Figure size 640x480 with 1 Axes>"
      ]
     },
     "metadata": {},
     "output_type": "display_data"
    },
    {
     "data": {
      "image/png": "[encoded data removed]",
      "text/plain": [
       "<Figure size 640x480 with 1 Axes>"
      ]
     },
     "metadata": {},
     "output_type": "display_data"
    }
   ],
   "source": [
    "dfModel = cree_df(\"SMSSpamCollection.txt\")\n",
    "dfModel = prep(dfModel)\n",
    "dfModel = features(dfModel)\n",
    "\n",
    "dfModel[['type', 'phone']].boxplot(column='phone', by='type')\n",
    "dfModel[['type', 'http']].boxplot(column='http', by='type')\n",
    "dfModel[['type', 'nombre_mots']].boxplot(column='nombre_mots', by='type')\n",
    "dfModel[['type', 'len']].boxplot(column='len', by='type')\n",
    "\n"
   ]
  },
  {
   "cell_type": "code",
   "execution_count": 327,
   "metadata": {},
   "outputs": [],
   "source": [
    "dfModel = cree_df(\"SMSSpamCollection.txt\")\n",
    "dfModel = prep(dfModel)\n",
    "dfModel = features(dfModel)\n",
    "X_train, X_test, y_train, y_test = spliteur(dfModel)"
   ]
  },
  {
   "cell_type": "code",
   "execution_count": 328,
   "metadata": {},
   "outputs": [
    {
     "data": {
      "text/plain": [
       "'ACP, function transformer et graphique'"
      ]
     },
     "execution_count": 328,
     "metadata": {},
     "output_type": "execute_result"
    }
   ],
   "source": [
    "\n",
    "\n",
    "\n",
    "\"\"\"ACP, function transformer et graphique\"\"\""
   ]
  },
  {
   "cell_type": "code",
   "execution_count": 333,
   "metadata": {},
   "outputs": [
    {
     "data": {
      "text/html": [
       "<style>#sk-container-id-2 {color: black;}#sk-container-id-2 pre{padding: 0;}#sk-container-id-2 div.sk-toggleable {background-color: white;}#sk-container-id-2 label.sk-toggleable__label {cursor: pointer;display: block;width: 100%;margin-bottom: 0;padding: 0.3em;box-sizing: border-box;text-align: center;}#sk-container-id-2 label.sk-toggleable__label-arrow:before {content: \"▸\";float: left;margin-right: 0.25em;color: #696969;}#sk-container-id-2 label.sk-toggleable__label-arrow:hover:before {color: black;}#sk-container-id-2 div.sk-estimator:hover label.sk-toggleable__label-arrow:before {color: black;}#sk-container-id-2 div.sk-toggleable__content {max-height: 0;max-width: 0;overflow: hidden;text-align: left;background-color: #f0f8ff;}#sk-container-id-2 div.sk-toggleable__content pre {margin: 0.2em;color: black;border-radius: 0.25em;background-color: #f0f8ff;}#sk-container-id-2 input.sk-toggleable__control:checked~div.sk-toggleable__content {max-height: 200px;max-width: 100%;overflow: auto;}#sk-container-id-2 input.sk-toggleable__control:checked~label.sk-toggleable__label-arrow:before {content: \"▾\";}#sk-container-id-2 div.sk-estimator input.sk-toggleable__control:checked~label.sk-toggleable__label {background-color: #d4ebff;}#sk-container-id-2 div.sk-label input.sk-toggleable__control:checked~label.sk-toggleable__label {background-color: #d4ebff;}#sk-container-id-2 input.sk-hidden--visually {border: 0;clip: rect(1px 1px 1px 1px);clip: rect(1px, 1px, 1px, 1px);height: 1px;margin: -1px;overflow: hidden;padding: 0;position: absolute;width: 1px;}#sk-container-id-2 div.sk-estimator {font-family: monospace;background-color: #f0f8ff;border: 1px dotted black;border-radius: 0.25em;box-sizing: border-box;margin-bottom: 0.5em;}#sk-container-id-2 div.sk-estimator:hover {background-color: #d4ebff;}#sk-container-id-2 div.sk-parallel-item::after {content: \"\";width: 100%;border-bottom: 1px solid gray;flex-grow: 1;}#sk-container-id-2 div.sk-label:hover label.sk-toggleable__label {background-color: #d4ebff;}#sk-container-id-2 div.sk-serial::before {content: \"\";position: absolute;border-left: 1px solid gray;box-sizing: border-box;top: 0;bottom: 0;left: 50%;z-index: 0;}#sk-container-id-2 div.sk-serial {display: flex;flex-direction: column;align-items: center;background-color: white;padding-right: 0.2em;padding-left: 0.2em;position: relative;}#sk-container-id-2 div.sk-item {position: relative;z-index: 1;}#sk-container-id-2 div.sk-parallel {display: flex;align-items: stretch;justify-content: center;background-color: white;position: relative;}#sk-container-id-2 div.sk-item::before, #sk-container-id-2 div.sk-parallel-item::before {content: \"\";position: absolute;border-left: 1px solid gray;box-sizing: border-box;top: 0;bottom: 0;left: 50%;z-index: -1;}#sk-container-id-2 div.sk-parallel-item {display: flex;flex-direction: column;z-index: 1;position: relative;background-color: white;}#sk-container-id-2 div.sk-parallel-item:first-child::after {align-self: flex-end;width: 50%;}#sk-container-id-2 div.sk-parallel-item:last-child::after {align-self: flex-start;width: 50%;}#sk-container-id-2 div.sk-parallel-item:only-child::after {width: 0;}#sk-container-id-2 div.sk-dashed-wrapped {border: 1px dashed gray;margin: 0 0.4em 0.5em 0.4em;box-sizing: border-box;padding-bottom: 0.4em;background-color: white;}#sk-container-id-2 div.sk-label label {font-family: monospace;font-weight: bold;display: inline-block;line-height: 1.2em;}#sk-container-id-2 div.sk-label-container {text-align: center;}#sk-container-id-2 div.sk-container {/* jupyter's `normalize.less` sets `[hidden] { display: none; }` but bootstrap.min.css set `[hidden] { display: none !important; }` so we also need the `!important` here to be able to override the default hidden behavior on the sphinx rendered scikit-learn.org. See: https://github.com/scikit-learn/scikit-learn/issues/21755 */display: inline-block !important;position: relative;}#sk-container-id-2 div.sk-text-repr-fallback {display: none;}</style><div id=\"sk-container-id-2\" class=\"sk-top-container\"><div class=\"sk-text-repr-fallback\"><pre>Pipeline(steps=[(&#x27;vectorizer&#x27;,\n",
       "                 ColumnTransformer(transformers=[(&#x27;TFid&amp;data&#x27;,\n",
       "                                                  Pipeline(steps=[(&#x27;Tfid&#x27;,\n",
       "                                                                   TfidfVectorizer(analyzer=&#x27;char_wb&#x27;,\n",
       "                                                                                   decode_error=&#x27;ignore&#x27;,\n",
       "                                                                                   lowercase=False,\n",
       "                                                                                   ngram_range=(2,\n",
       "                                                                                                2)))]),\n",
       "                                                  &#x27;clean&#x27;),\n",
       "                                                 (&#x27;Scaler&amp;data&#x27;, MinMaxScaler(),\n",
       "                                                  [&#x27;len&#x27;, &#x27;nombre_mots&#x27;]),\n",
       "                                                 (&#x27;BoolEncoder&#x27;,\n",
       "                                                  OrdinalEncoder(),\n",
       "                                                  [&#x27;http&#x27;, &#x27;phone&#x27;])])),\n",
       "                (&#x27;classifier&#x27;, ComplementNB())])</pre><b>In a Jupyter environment, please rerun this cell to show the HTML representation or trust the notebook. <br />On GitHub, the HTML representation is unable to render, please try loading this page with nbviewer.org.</b></div><div class=\"sk-container\" hidden><div class=\"sk-item sk-dashed-wrapped\"><div class=\"sk-label-container\"><div class=\"sk-label sk-toggleable\"><input class=\"sk-toggleable__control sk-hidden--visually\" id=\"sk-estimator-id-2\" type=\"checkbox\" ><label for=\"sk-estimator-id-2\" class=\"sk-toggleable__label sk-toggleable__label-arrow\">Pipeline</label><div class=\"sk-toggleable__content\"><pre>Pipeline(steps=[(&#x27;vectorizer&#x27;,\n",
       "                 ColumnTransformer(transformers=[(&#x27;TFid&amp;data&#x27;,\n",
       "                                                  Pipeline(steps=[(&#x27;Tfid&#x27;,\n",
       "                                                                   TfidfVectorizer(analyzer=&#x27;char_wb&#x27;,\n",
       "                                                                                   decode_error=&#x27;ignore&#x27;,\n",
       "                                                                                   lowercase=False,\n",
       "                                                                                   ngram_range=(2,\n",
       "                                                                                                2)))]),\n",
       "                                                  &#x27;clean&#x27;),\n",
       "                                                 (&#x27;Scaler&amp;data&#x27;, MinMaxScaler(),\n",
       "                                                  [&#x27;len&#x27;, &#x27;nombre_mots&#x27;]),\n",
       "                                                 (&#x27;BoolEncoder&#x27;,\n",
       "                                                  OrdinalEncoder(),\n",
       "                                                  [&#x27;http&#x27;, &#x27;phone&#x27;])])),\n",
       "                (&#x27;classifier&#x27;, ComplementNB())])</pre></div></div></div><div class=\"sk-serial\"><div class=\"sk-item sk-dashed-wrapped\"><div class=\"sk-label-container\"><div class=\"sk-label sk-toggleable\"><input class=\"sk-toggleable__control sk-hidden--visually\" id=\"sk-estimator-id-3\" type=\"checkbox\" ><label for=\"sk-estimator-id-3\" class=\"sk-toggleable__label sk-toggleable__label-arrow\">vectorizer: ColumnTransformer</label><div class=\"sk-toggleable__content\"><pre>ColumnTransformer(transformers=[(&#x27;TFid&amp;data&#x27;,\n",
       "                                 Pipeline(steps=[(&#x27;Tfid&#x27;,\n",
       "                                                  TfidfVectorizer(analyzer=&#x27;char_wb&#x27;,\n",
       "                                                                  decode_error=&#x27;ignore&#x27;,\n",
       "                                                                  lowercase=False,\n",
       "                                                                  ngram_range=(2,\n",
       "                                                                               2)))]),\n",
       "                                 &#x27;clean&#x27;),\n",
       "                                (&#x27;Scaler&amp;data&#x27;, MinMaxScaler(),\n",
       "                                 [&#x27;len&#x27;, &#x27;nombre_mots&#x27;]),\n",
       "                                (&#x27;BoolEncoder&#x27;, OrdinalEncoder(),\n",
       "                                 [&#x27;http&#x27;, &#x27;phone&#x27;])])</pre></div></div></div><div class=\"sk-parallel\"><div class=\"sk-parallel-item\"><div class=\"sk-item\"><div class=\"sk-label-container\"><div class=\"sk-label sk-toggleable\"><input class=\"sk-toggleable__control sk-hidden--visually\" id=\"sk-estimator-id-4\" type=\"checkbox\" ><label for=\"sk-estimator-id-4\" class=\"sk-toggleable__label sk-toggleable__label-arrow\">TFid&amp;data</label><div class=\"sk-toggleable__content\"><pre>clean</pre></div></div></div><div class=\"sk-serial\"><div class=\"sk-item\"><div class=\"sk-serial\"><div class=\"sk-item\"><div class=\"sk-estimator sk-toggleable\"><input class=\"sk-toggleable__control sk-hidden--visually\" id=\"sk-estimator-id-5\" type=\"checkbox\" ><label for=\"sk-estimator-id-5\" class=\"sk-toggleable__label sk-toggleable__label-arrow\">TfidfVectorizer</label><div class=\"sk-toggleable__content\"><pre>TfidfVectorizer(analyzer=&#x27;char_wb&#x27;, decode_error=&#x27;ignore&#x27;, lowercase=False,\n",
       "                ngram_range=(2, 2))</pre></div></div></div></div></div></div></div></div><div class=\"sk-parallel-item\"><div class=\"sk-item\"><div class=\"sk-label-container\"><div class=\"sk-label sk-toggleable\"><input class=\"sk-toggleable__control sk-hidden--visually\" id=\"sk-estimator-id-6\" type=\"checkbox\" ><label for=\"sk-estimator-id-6\" class=\"sk-toggleable__label sk-toggleable__label-arrow\">Scaler&amp;data</label><div class=\"sk-toggleable__content\"><pre>[&#x27;len&#x27;, &#x27;nombre_mots&#x27;]</pre></div></div></div><div class=\"sk-serial\"><div class=\"sk-item\"><div class=\"sk-estimator sk-toggleable\"><input class=\"sk-toggleable__control sk-hidden--visually\" id=\"sk-estimator-id-7\" type=\"checkbox\" ><label for=\"sk-estimator-id-7\" class=\"sk-toggleable__label sk-toggleable__label-arrow\">MinMaxScaler</label><div class=\"sk-toggleable__content\"><pre>MinMaxScaler()</pre></div></div></div></div></div></div><div class=\"sk-parallel-item\"><div class=\"sk-item\"><div class=\"sk-label-container\"><div class=\"sk-label sk-toggleable\"><input class=\"sk-toggleable__control sk-hidden--visually\" id=\"sk-estimator-id-8\" type=\"checkbox\" ><label for=\"sk-estimator-id-8\" class=\"sk-toggleable__label sk-toggleable__label-arrow\">BoolEncoder</label><div class=\"sk-toggleable__content\"><pre>[&#x27;http&#x27;, &#x27;phone&#x27;]</pre></div></div></div><div class=\"sk-serial\"><div class=\"sk-item\"><div class=\"sk-estimator sk-toggleable\"><input class=\"sk-toggleable__control sk-hidden--visually\" id=\"sk-estimator-id-9\" type=\"checkbox\" ><label for=\"sk-estimator-id-9\" class=\"sk-toggleable__label sk-toggleable__label-arrow\">OrdinalEncoder</label><div class=\"sk-toggleable__content\"><pre>OrdinalEncoder()</pre></div></div></div></div></div></div></div></div><div class=\"sk-item\"><div class=\"sk-estimator sk-toggleable\"><input class=\"sk-toggleable__control sk-hidden--visually\" id=\"sk-estimator-id-10\" type=\"checkbox\" ><label for=\"sk-estimator-id-10\" class=\"sk-toggleable__label sk-toggleable__label-arrow\">ComplementNB</label><div class=\"sk-toggleable__content\"><pre>ComplementNB()</pre></div></div></div></div></div></div></div>"
      ],
      "text/plain": [
       "Pipeline(steps=[('vectorizer',\n",
       "                 ColumnTransformer(transformers=[('TFid&data',\n",
       "                                                  Pipeline(steps=[('Tfid',\n",
       "                                                                   TfidfVectorizer(analyzer='char_wb',\n",
       "                                                                                   decode_error='ignore',\n",
       "                                                                                   lowercase=False,\n",
       "                                                                                   ngram_range=(2,\n",
       "                                                                                                2)))]),\n",
       "                                                  'clean'),\n",
       "                                                 ('Scaler&data', MinMaxScaler(),\n",
       "                                                  ['len', 'nombre_mots']),\n",
       "                                                 ('BoolEncoder',\n",
       "                                                  OrdinalEncoder(),\n",
       "                                                  ['http', 'phone'])])),\n",
       "                ('classifier', ComplementNB())])"
      ]
     },
     "execution_count": 333,
     "metadata": {},
     "output_type": "execute_result"
    }
   ],
   "source": [
    "model_lm=ModelCreateur(X_train, y_train, classifier3)\n",
    "model_lm"
   ]
  },
  {
   "cell_type": "code",
   "execution_count": 332,
   "metadata": {},
   "outputs": [
    {
     "name": "stdout",
     "output_type": "stream",
     "text": [
      "Pipeline(steps=[('vectorizer',\n",
      "                 ColumnTransformer(transformers=[('TFid&data',\n",
      "                                                  Pipeline(steps=[('Tfid',\n",
      "                                                                   TfidfVectorizer(analyzer='char_wb',\n",
      "                                                                                   decode_error='ignore',\n",
      "                                                                                   lowercase=False,\n",
      "                                                                                   ngram_range=(2,\n",
      "                                                                                                2)))]),\n",
      "                                                  'clean'),\n",
      "                                                 ('Scaler&data', MinMaxScaler(),\n",
      "                                                  ['len', 'nombre_mots']),\n",
      "                                                 ('BoolEncoder',\n",
      "                                                  OrdinalEncoder(),\n",
      "                                                  ['http', 'phone'])])),\n",
      "                ('classifier',\n",
      "                 LogisticRegression(C=1000.0, solver='liblinear'))])\n",
      "Pipeline(steps=[('vectorizer',\n",
      "                 ColumnTransformer(transformers=[('TFid&data',\n",
      "                                                  Pipeline(steps=[('Tfid',\n",
      "                                                                   TfidfVectorizer(analyzer='char_wb',\n",
      "                                                                                   decode_error='ignore',\n",
      "                                                                                   lowercase=False,\n",
      "                                                                                   ngram_range=(2,\n",
      "                                                                                                2)))]),\n",
      "                                                  'clean'),\n",
      "                                                 ('Scaler&data', MinMaxScaler(),\n",
      "                                                  ['len', 'nombre_mots']),\n",
      "                                                 ('BoolEncoder',\n",
      "                                                  OrdinalEncoder(),\n",
      "                                                  ['http', 'phone'])])),\n",
      "                ('classifier', KNeighborsClassifier(n_neighbors=7))])\n",
      "Pipeline(steps=[('vectorizer',\n",
      "                 ColumnTransformer(transformers=[('TFid&data',\n",
      "                                                  Pipeline(steps=[('Tfid',\n",
      "                                                                   TfidfVectorizer(analyzer='char_wb',\n",
      "                                                                                   decode_error='ignore',\n",
      "                                                                                   lowercase=False,\n",
      "                                                                                   ngram_range=(2,\n",
      "                                                                                                2)))]),\n",
      "                                                  'clean'),\n",
      "                                                 ('Scaler&data', MinMaxScaler(),\n",
      "                                                  ['len', 'nombre_mots']),\n",
      "                                                 ('BoolEncoder',\n",
      "                                                  OrdinalEncoder(),\n",
      "                                                  ['http', 'phone'])])),\n",
      "                ('classifier', ComplementNB())])\n",
      "Pipeline(steps=[('vectorizer',\n",
      "                 ColumnTransformer(transformers=[('TFid&data',\n",
      "                                                  Pipeline(steps=[('Tfid',\n",
      "                                                                   TfidfVectorizer(analyzer='char_wb',\n",
      "                                                                                   decode_error='ignore',\n",
      "                                                                                   lowercase=False,\n",
      "                                                                                   ngram_range=(2,\n",
      "                                                                                                2)))]),\n",
      "                                                  'clean'),\n",
      "                                                 ('Scaler&data', MinMaxScaler(),\n",
      "                                                  ['len', 'nombre_mots']),\n",
      "                                                 ('BoolEncoder',\n",
      "                                                  OrdinalEncoder(),\n",
      "                                                  ['http', 'phone'])])),\n",
      "                ('classifier', MultinomialNB())])\n",
      "Pipeline(steps=[('vectorizer',\n",
      "                 ColumnTransformer(transformers=[('TFid&data',\n",
      "                                                  Pipeline(steps=[('Tfid',\n",
      "                                                                   TfidfVectorizer(analyzer='char_wb',\n",
      "                                                                                   decode_error='ignore',\n",
      "                                                                                   lowercase=False,\n",
      "                                                                                   ngram_range=(2,\n",
      "                                                                                                2)))]),\n",
      "                                                  'clean'),\n",
      "                                                 ('Scaler&data', MinMaxScaler(),\n",
      "                                                  ['len', 'nombre_mots']),\n",
      "                                                 ('BoolEncoder',\n",
      "                                                  OrdinalEncoder(),\n",
      "                                                  ['http', 'phone'])])),\n",
      "                ('classifier', BernoulliNB(force_alpha=True))])\n",
      "Pipeline(steps=[('vectorizer',\n",
      "                 ColumnTransformer(transformers=[('TFid&data',\n",
      "                                                  Pipeline(steps=[('Tfid',\n",
      "                                                                   TfidfVectorizer(analyzer='char_wb',\n",
      "                                                                                   decode_error='ignore',\n",
      "                                                                                   lowercase=False,\n",
      "                                                                                   ngram_range=(2,\n",
      "                                                                                                2)))]),\n",
      "                                                  'clean'),\n",
      "                                                 ('Scaler&data', MinMaxScaler(),\n",
      "                                                  ['len', 'nombre_mots']),\n",
      "                                                 ('BoolEncoder',\n",
      "                                                  OrdinalEncoder(),\n",
      "                                                  ['http', 'phone'])])),\n",
      "                ('classifier', SVC())])\n",
      "Pipeline(steps=[('vectorizer',\n",
      "                 ColumnTransformer(transformers=[('TFid&data',\n",
      "                                                  Pipeline(steps=[('Tfid',\n",
      "                                                                   TfidfVectorizer(analyzer='char_wb',\n",
      "                                                                                   decode_error='ignore',\n",
      "                                                                                   lowercase=False,\n",
      "                                                                                   ngram_range=(2,\n",
      "                                                                                                2)))]),\n",
      "                                                  'clean'),\n",
      "                                                 ('Scaler&data', MinMaxScaler(),\n",
      "                                                  ['len', 'nombre_mots']),\n",
      "                                                 ('BoolEncoder',\n",
      "                                                  OrdinalEncoder(),\n",
      "                                                  ['http', 'phone'])])),\n",
      "                ('classifier', SVC(C=1, gamma=2, random_state=42))])\n",
      "Pipeline(steps=[('vectorizer',\n",
      "                 ColumnTransformer(transformers=[('TFid&data',\n",
      "                                                  Pipeline(steps=[('Tfid',\n",
      "                                                                   TfidfVectorizer(analyzer='char_wb',\n",
      "                                                                                   decode_error='ignore',\n",
      "                                                                                   lowercase=False,\n",
      "                                                                                   ngram_range=(2,\n",
      "                                                                                                2)))]),\n",
      "                                                  'clean'),\n",
      "                                                 ('Scaler&data', MinMaxScaler(),\n",
      "                                                  ['len', 'nombre_mots']),\n",
      "                                                 ('BoolEncoder',\n",
      "                                                  OrdinalEncoder(),\n",
      "                                                  ['http', 'phone'])])),\n",
      "                ('classifier', RidgeClassifier(solver='sparse_cg', tol=0.01))])\n",
      "Pipeline(steps=[('vectorizer',\n",
      "                 ColumnTransformer(transformers=[('TFid&data',\n",
      "                                                  Pipeline(steps=[('Tfid',\n",
      "                                                                   TfidfVectorizer(analyzer='char_wb',\n",
      "                                                                                   decode_error='ignore',\n",
      "                                                                                   lowercase=False,\n",
      "                                                                                   ngram_range=(2,\n",
      "                                                                                                2)))]),\n",
      "                                                  'clean'),\n",
      "                                                 ('Scaler&data', MinMaxScaler(),\n",
      "                                                  ['len', 'nombre_mots']),\n",
      "                                                 ('BoolEncoder',\n",
      "                                                  OrdinalEncoder(),\n",
      "                                                  ['http', 'phone'])])),\n",
      "                ('classifier',\n",
      "                 RandomForestClassifier(max_depth=200, random_state=42))])\n",
      "Pipeline(steps=[('vectorizer',\n",
      "                 ColumnTransformer(transformers=[('TFid&data',\n",
      "                                                  Pipeline(steps=[('Tfid',\n",
      "                                                                   TfidfVectorizer(analyzer='char_wb',\n",
      "                                                                                   decode_error='ignore',\n",
      "                                                                                   lowercase=False,\n",
      "                                                                                   ngram_range=(2,\n",
      "                                                                                                2)))]),\n",
      "                                                  'clean'),\n",
      "                                                 ('Scaler&data', MinMaxScaler(),\n",
      "                                                  ['len', 'nombre_mots']),\n",
      "                                                 ('BoolEncoder',\n",
      "                                                  OrdinalEncoder(),\n",
      "                                                  ['http', 'phone'])])),\n",
      "                ('classifier', DecisionTreeClassifier())])\n"
     ]
    }
   ],
   "source": [
    "#input =  'Hi Nick. This is to remind you about the $75 minimum payment on your credit card ending in XXXX. Payment is due on 01/01. Pls visit order.com to make your payment'\n",
    "for i in list_model:\n",
    "    model_lm=ModelCreateur(X_train, y_train, i)\n",
    "    model_lm\n",
    "    \"\"\"print('model utilisé:', i)\n",
    "    y_pred = testModel(X_test,model_lm)\n",
    "    matrixconf(y_test,y_pred)\n",
    "    AfficherScores(y_test, y_pred,model_lm,X_test)\n",
    "    model_disp = RocCurveDisplay.from_estimator(model_lm,X_test,y_test)\"\"\""
   ]
  },
  {
   "cell_type": "code",
   "execution_count": 330,
   "metadata": {},
   "outputs": [
    {
     "data": {
      "text/plain": [
       "\"for i in list_model:\\n    model_lm=ModelCreateur(X_train, y_train, i)\\n    print('model utilisé:', i)\\n    y_pred = testModel(X_test,model_lm)\\n    matrixconf(y_test,y_pred)\\n    AfficherScores(y_test, y_pred,model_lm,X_test)\\n    model_disp = RocCurveDisplay.from_estimator(model_lm,X_test,y_test)\""
      ]
     },
     "execution_count": 330,
     "metadata": {},
     "output_type": "execute_result"
    }
   ],
   "source": [
    "\"\"\"for i in list_model:\n",
    "    model_lm=ModelCreateur(X_train, y_train, i)\n",
    "    print('model utilisé:', i)\n",
    "    y_pred = testModel(X_test,model_lm)\n",
    "    matrixconf(y_test,y_pred)\n",
    "    AfficherScores(y_test, y_pred,model_lm,X_test)\n",
    "    model_disp = RocCurveDisplay.from_estimator(model_lm,X_test,y_test)\"\"\""
   ]
  }
 ],
 "metadata": {
  "kernelspec": {
   "display_name": "base",
   "language": "python",
   "name": "python3"
  },
  "language_info": {
   "codemirror_mode": {
    "name": "ipython",
    "version": 3
   },
   "file_extension": ".py",
   "mimetype": "text/x-python",
   "name": "python",
   "nbconvert_exporter": "python",
   "pygments_lexer": "ipython3",
   "version": "3.11.5"
  }
 },
 "nbformat": 4,
 "nbformat_minor": 2
}
